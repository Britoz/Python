{
 "cells": [
  {
   "cell_type": "markdown",
   "metadata": {},
   "source": [
    "# 05_03: Filling Missing Values "
   ]
  },
  {
   "cell_type": "code",
   "execution_count": 1,
   "metadata": {},
   "outputs": [],
   "source": [
    "import math\n",
    "import collections\n",
    "import matplotlib.pyplot as pp\n",
    "import pandas as pd\n",
    "import urllib\n",
    "import numpy as np\n",
    "\n",
    "%matplotlib inline"
   ]
  },
  {
   "cell_type": "code",
   "execution_count": 2,
   "metadata": {},
   "outputs": [],
   "source": [
    "import getweather"
   ]
  },
  {
   "cell_type": "code",
   "execution_count": 3,
   "metadata": {},
   "outputs": [],
   "source": [
    "pasadena = getweather.getyear('PASADENA',['TMIN','TMAX'], 2001)\n",
    "# we assign new data which is a list of data on year 2001 and it has 2 value TMIN and TMAX of PASADENA"
   ]
  },
  {
   "cell_type": "code",
   "execution_count": 4,
   "metadata": {},
   "outputs": [
    {
     "data": {
      "text/plain": [
       "(nan, nan, nan)"
      ]
     },
     "execution_count": 4,
     "metadata": {},
     "output_type": "execute_result"
    }
   ],
   "source": [
    "# trying to get average value\n",
    "np.mean(pasadena['TMIN']), np.min(pasadena['TMIN']),np.max(pasadena['TMIN'])"
   ]
  },
  {
   "cell_type": "code",
   "execution_count": 5,
   "metadata": {},
   "outputs": [
    {
     "data": {
      "text/plain": [
       "array([ 9.4,  8.3,  8.9,  8.3, 10. , 10.6,  7.2,  7.2,  7.8,  6.1,  5.6,\n",
       "        6.1,  5. ,  3.9,  4.4,  2.8,  5. ,  3.9,  5.6,  7.2,  7.2,  8.9,\n",
       "        5.6,  6.7,  3.3,  5.6,  3.3,  3.3,  3.3,  3.9,  5. ,  5. ,  6.1,\n",
       "        nan,  7.2, 13.9, 11.1,  5.6,  2.2,  3.9,  6.1,  3.3,  5.6,  6.1,\n",
       "        2.8,  2.8,  4.4,  7.8, 10. ,  9.4,  5.6,  5.6,  7.8,  5. ,  3.9,\n",
       "        6.7,  7.2,  7.8,  6.7,  5. ,  5.6,  8.3,  9.4, 10. ,  9.4, 10. ,\n",
       "        8.9, 10.6,  6.1,  8.9,  8.3,  7.2,  7.8, 10. , 10. ,  7.8, 10.6,\n",
       "       13.3, 14.4, 10.6, 11.7, 11.1,  9.4, 10. , 12.2, 10. , 11.1, 12.8,\n",
       "       12.8, 12.8, 12.2, 11.1, 10.6,  8.3,  8.3,  6.1,  7.2,  3.3, 16.1,\n",
       "        3.9,  8.9,  7.8,  6.7,  7.2,  7.2,  9.4,  9.4, 12.2, 11.1,  8.9,\n",
       "        6.1,  7.2, 10. , 10. , 16.1, 12.2, 12.8, 11.7,  nan, 11.1, 11.7,\n",
       "       12.2, 11.1, 10.6, 11.1, 12.2, 13.3, 15.6, 16.1, 14.4, 13.3, 13.9,\n",
       "       13.3, 10.6, 13.3, 13.9, 14.4, 15. ,  nan, 11.1, 14.4, 15. , 15.6,\n",
       "       15. , 15.6, 16.7, 14.4, 14.4, 12.8, 13.9, 15. , 16.1, 15. , 14.4,\n",
       "       13.3, 12.8, 13.9, 15. , 15.6, 15.6, 15.6,  nan, 14.4,  nan,  nan,\n",
       "        nan, 13.3, 14.4, 16.1, 16.1, 16.7, 17.2, 18.9,  nan, 15. , 15.6,\n",
       "       15.6, 15. , 15.6, 16.1, 15.6, 17.2, 18.3, 20. , 21.1, 20. , 18.9,\n",
       "       17.8, 16.7, 15. , 13.9, 12.8, 12.2, 14.4, 14.4, 16.1, 15.6, 13.3,\n",
       "       13.3, 13.9, 13.3, 13.9, 13.3, 13.3, 14.4,  nan, 14.4, 15. , 14.4,\n",
       "       15. , 15.6, 15.6, 15. , 15. , 13.9, 12.2, 14.4, 17.8, 19.4, 17.8,\n",
       "       15. , 15.6, 16.7, 16.1, 16.7, 18.3, 17.2, 17.2, 17.2, 18.3, 18.9,\n",
       "       16.7, 15.6, 16.1, 13.9, 15.6, 17.8, 18.3, 16.7, 16.1, 15. , 16.7,\n",
       "       15. , 15. , 18.9, 18.3, 17.2, 17.2, 17.2, 16.1, 15.6, 15. , 13.3,\n",
       "       15. , 14.4, 12.8, 13.9, 13.9, 13.3, 15.6, 13.9, 13.3, 12.8, 13.3,\n",
       "       15. , 13.9, 16.1, 18.9, 17.2, 17.2, 15.6, 15. , 18.9, 18.3, 18.9,\n",
       "       15.6, 14.4, 15.6,  nan,  nan, 11.7, 14.4, 11.7, 11.1, 11.7, 14.4,\n",
       "       12.8, 13.9, 15. , 11.7, 12.2, 12.8, 16.1, 12.2, 13.3, 11.1, 11.7,\n",
       "       11.7, 13.3, 12.2, 13.3, 12.2, 12.2, 11.7, 11.1, 11.1,  9.4, 14.4,\n",
       "       12.2, 11.7, 12.2, 11.7, 12.8, 13.9, 13.3,  nan,  7.2,  7.2, 10. ,\n",
       "       10. , 10. ,  8.9, 10. , 10.6, 11.1, 11.1, 10.6, 10. ,  nan, 11.1,\n",
       "        5.6,  3.3,  7.2,  5.6,  5. ,  6.1,  8.9,  6.1,  4.4,  6.7,  7.2,\n",
       "        7.8,  5.6,  4.4,  3.9,  5.6,  3.9,  5.6,  6.1,  3.9,  3.9,  3.9,\n",
       "        5.6,  6.7,  6.1,  4.4,  nan,  4.4,  4.4,  5.6,  nan,  7.8, 10. ,\n",
       "        9.4, 10.6])"
      ]
     },
     "execution_count": 5,
     "metadata": {},
     "output_type": "execute_result"
    }
   ],
   "source": [
    "pasadena['TMIN']"
   ]
  },
  {
   "cell_type": "code",
   "execution_count": 6,
   "metadata": {},
   "outputs": [
    {
     "data": {
      "text/plain": [
       "nan"
      ]
     },
     "execution_count": 6,
     "metadata": {},
     "output_type": "execute_result"
    }
   ],
   "source": [
    "np.nan + 1"
   ]
  },
  {
   "cell_type": "code",
   "execution_count": 7,
   "metadata": {},
   "outputs": [
    {
     "data": {
      "text/plain": [
       "array([False, False, False, False, False, False, False, False, False,\n",
       "       False, False, False, False, False, False, False, False, False,\n",
       "       False, False, False, False, False, False, False, False, False,\n",
       "       False, False, False, False, False, False,  True, False, False,\n",
       "       False, False, False, False, False, False, False, False, False,\n",
       "       False, False, False, False, False, False, False, False, False,\n",
       "       False, False, False, False, False, False, False, False, False,\n",
       "       False, False, False, False, False, False, False, False, False,\n",
       "       False, False, False, False, False, False, False, False, False,\n",
       "       False, False, False, False, False, False, False, False, False,\n",
       "       False, False, False, False, False, False, False, False, False,\n",
       "       False, False, False, False, False, False, False, False, False,\n",
       "       False, False, False, False, False, False, False, False, False,\n",
       "       False,  True, False, False, False, False, False, False, False,\n",
       "       False, False, False, False, False, False, False, False, False,\n",
       "       False, False, False,  True, False, False, False, False, False,\n",
       "       False, False, False, False, False, False, False, False, False,\n",
       "       False, False, False, False, False, False, False, False,  True,\n",
       "       False,  True,  True,  True, False, False, False, False, False,\n",
       "       False, False,  True, False, False, False, False, False, False,\n",
       "       False, False, False, False, False, False, False, False, False,\n",
       "       False, False, False, False, False, False, False, False, False,\n",
       "       False, False, False, False, False, False, False,  True, False,\n",
       "       False, False, False, False, False, False, False, False, False,\n",
       "       False, False, False, False, False, False, False, False, False,\n",
       "       False, False, False, False, False, False, False, False, False,\n",
       "       False, False, False, False, False, False, False, False, False,\n",
       "       False, False, False, False, False, False, False, False, False,\n",
       "       False, False, False, False, False, False, False, False, False,\n",
       "       False, False, False, False, False, False, False, False, False,\n",
       "       False, False, False, False, False, False, False, False,  True,\n",
       "        True, False, False, False, False, False, False, False, False,\n",
       "       False, False, False, False, False, False, False, False, False,\n",
       "       False, False, False, False, False, False, False, False, False,\n",
       "       False, False, False, False, False, False, False, False, False,\n",
       "        True, False, False, False, False, False, False, False, False,\n",
       "       False, False, False, False,  True, False, False, False, False,\n",
       "       False, False, False, False, False, False, False, False, False,\n",
       "       False, False, False, False, False, False, False, False, False,\n",
       "       False, False, False, False, False,  True, False, False, False,\n",
       "        True, False, False, False, False])"
      ]
     },
     "execution_count": 7,
     "metadata": {},
     "output_type": "execute_result"
    }
   ],
   "source": [
    "# TODO: checking which one is nan value\n",
    "np.isnan(pasadena['TMIN'])\n",
    "# nan will display TRUE"
   ]
  },
  {
   "cell_type": "code",
   "execution_count": 9,
   "metadata": {},
   "outputs": [
    {
     "data": {
      "text/plain": [
       "2"
      ]
     },
     "execution_count": 9,
     "metadata": {},
     "output_type": "execute_result"
    }
   ],
   "source": [
    "False + True + True\n",
    "# we have false = 0, True = 1 -> hence, 0 + 1+ 1 = 2"
   ]
  },
  {
   "cell_type": "code",
   "execution_count": 10,
   "metadata": {},
   "outputs": [
    {
     "data": {
      "text/plain": [
       "15"
      ]
     },
     "execution_count": 10,
     "metadata": {},
     "output_type": "execute_result"
    }
   ],
   "source": [
    "np.sum(np.isnan(pasadena['TMIN']))\n",
    "# sum of all empty value which is True -> 15 means 15 empty 'TMIN' of pasadena"
   ]
  },
  {
   "cell_type": "code",
   "execution_count": 11,
   "metadata": {},
   "outputs": [
    {
     "data": {
      "text/plain": [
       "(2.2, 41.1)"
      ]
     },
     "execution_count": 11,
     "metadata": {},
     "output_type": "execute_result"
    }
   ],
   "source": [
    "np.nanmin(pasadena['TMIN']), np.nanmax(pasadena['TMAX'])"
   ]
  },
  {
   "cell_type": "code",
   "execution_count": 12,
   "metadata": {},
   "outputs": [],
   "source": [
    "pasadena['TMIN'][np.isnan(pasadena['TMIN'])] = np.nanmean(pasadena['TMIN'])\n",
    "pasadena['TMAX'][np.isnan(pasadena['TMAX'])] = np.nanmean(pasadena['TMAX'])"
   ]
  },
  {
   "cell_type": "code",
   "execution_count": 13,
   "metadata": {},
   "outputs": [
    {
     "data": {
      "text/plain": [
       "array([ 9.4       ,  8.3       ,  8.9       ,  8.3       , 10.        ,\n",
       "       10.6       ,  7.2       ,  7.2       ,  7.8       ,  6.1       ,\n",
       "        5.6       ,  6.1       ,  5.        ,  3.9       ,  4.4       ,\n",
       "        2.8       ,  5.        ,  3.9       ,  5.6       ,  7.2       ,\n",
       "        7.2       ,  8.9       ,  5.6       ,  6.7       ,  3.3       ,\n",
       "        5.6       ,  3.3       ,  3.3       ,  3.3       ,  3.9       ,\n",
       "        5.        ,  5.        ,  6.1       , 11.45314286,  7.2       ,\n",
       "       13.9       , 11.1       ,  5.6       ,  2.2       ,  3.9       ,\n",
       "        6.1       ,  3.3       ,  5.6       ,  6.1       ,  2.8       ,\n",
       "        2.8       ,  4.4       ,  7.8       , 10.        ,  9.4       ,\n",
       "        5.6       ,  5.6       ,  7.8       ,  5.        ,  3.9       ,\n",
       "        6.7       ,  7.2       ,  7.8       ,  6.7       ,  5.        ,\n",
       "        5.6       ,  8.3       ,  9.4       , 10.        ,  9.4       ,\n",
       "       10.        ,  8.9       , 10.6       ,  6.1       ,  8.9       ,\n",
       "        8.3       ,  7.2       ,  7.8       , 10.        , 10.        ,\n",
       "        7.8       , 10.6       , 13.3       , 14.4       , 10.6       ,\n",
       "       11.7       , 11.1       ,  9.4       , 10.        , 12.2       ,\n",
       "       10.        , 11.1       , 12.8       , 12.8       , 12.8       ,\n",
       "       12.2       , 11.1       , 10.6       ,  8.3       ,  8.3       ,\n",
       "        6.1       ,  7.2       ,  3.3       , 16.1       ,  3.9       ,\n",
       "        8.9       ,  7.8       ,  6.7       ,  7.2       ,  7.2       ,\n",
       "        9.4       ,  9.4       , 12.2       , 11.1       ,  8.9       ,\n",
       "        6.1       ,  7.2       , 10.        , 10.        , 16.1       ,\n",
       "       12.2       , 12.8       , 11.7       , 11.45314286, 11.1       ,\n",
       "       11.7       , 12.2       , 11.1       , 10.6       , 11.1       ,\n",
       "       12.2       , 13.3       , 15.6       , 16.1       , 14.4       ,\n",
       "       13.3       , 13.9       , 13.3       , 10.6       , 13.3       ,\n",
       "       13.9       , 14.4       , 15.        , 11.45314286, 11.1       ,\n",
       "       14.4       , 15.        , 15.6       , 15.        , 15.6       ,\n",
       "       16.7       , 14.4       , 14.4       , 12.8       , 13.9       ,\n",
       "       15.        , 16.1       , 15.        , 14.4       , 13.3       ,\n",
       "       12.8       , 13.9       , 15.        , 15.6       , 15.6       ,\n",
       "       15.6       , 11.45314286, 14.4       , 11.45314286, 11.45314286,\n",
       "       11.45314286, 13.3       , 14.4       , 16.1       , 16.1       ,\n",
       "       16.7       , 17.2       , 18.9       , 11.45314286, 15.        ,\n",
       "       15.6       , 15.6       , 15.        , 15.6       , 16.1       ,\n",
       "       15.6       , 17.2       , 18.3       , 20.        , 21.1       ,\n",
       "       20.        , 18.9       , 17.8       , 16.7       , 15.        ,\n",
       "       13.9       , 12.8       , 12.2       , 14.4       , 14.4       ,\n",
       "       16.1       , 15.6       , 13.3       , 13.3       , 13.9       ,\n",
       "       13.3       , 13.9       , 13.3       , 13.3       , 14.4       ,\n",
       "       11.45314286, 14.4       , 15.        , 14.4       , 15.        ,\n",
       "       15.6       , 15.6       , 15.        , 15.        , 13.9       ,\n",
       "       12.2       , 14.4       , 17.8       , 19.4       , 17.8       ,\n",
       "       15.        , 15.6       , 16.7       , 16.1       , 16.7       ,\n",
       "       18.3       , 17.2       , 17.2       , 17.2       , 18.3       ,\n",
       "       18.9       , 16.7       , 15.6       , 16.1       , 13.9       ,\n",
       "       15.6       , 17.8       , 18.3       , 16.7       , 16.1       ,\n",
       "       15.        , 16.7       , 15.        , 15.        , 18.9       ,\n",
       "       18.3       , 17.2       , 17.2       , 17.2       , 16.1       ,\n",
       "       15.6       , 15.        , 13.3       , 15.        , 14.4       ,\n",
       "       12.8       , 13.9       , 13.9       , 13.3       , 15.6       ,\n",
       "       13.9       , 13.3       , 12.8       , 13.3       , 15.        ,\n",
       "       13.9       , 16.1       , 18.9       , 17.2       , 17.2       ,\n",
       "       15.6       , 15.        , 18.9       , 18.3       , 18.9       ,\n",
       "       15.6       , 14.4       , 15.6       , 11.45314286, 11.45314286,\n",
       "       11.7       , 14.4       , 11.7       , 11.1       , 11.7       ,\n",
       "       14.4       , 12.8       , 13.9       , 15.        , 11.7       ,\n",
       "       12.2       , 12.8       , 16.1       , 12.2       , 13.3       ,\n",
       "       11.1       , 11.7       , 11.7       , 13.3       , 12.2       ,\n",
       "       13.3       , 12.2       , 12.2       , 11.7       , 11.1       ,\n",
       "       11.1       ,  9.4       , 14.4       , 12.2       , 11.7       ,\n",
       "       12.2       , 11.7       , 12.8       , 13.9       , 13.3       ,\n",
       "       11.45314286,  7.2       ,  7.2       , 10.        , 10.        ,\n",
       "       10.        ,  8.9       , 10.        , 10.6       , 11.1       ,\n",
       "       11.1       , 10.6       , 10.        , 11.45314286, 11.1       ,\n",
       "        5.6       ,  3.3       ,  7.2       ,  5.6       ,  5.        ,\n",
       "        6.1       ,  8.9       ,  6.1       ,  4.4       ,  6.7       ,\n",
       "        7.2       ,  7.8       ,  5.6       ,  4.4       ,  3.9       ,\n",
       "        5.6       ,  3.9       ,  5.6       ,  6.1       ,  3.9       ,\n",
       "        3.9       ,  3.9       ,  5.6       ,  6.7       ,  6.1       ,\n",
       "        4.4       , 11.45314286,  4.4       ,  4.4       ,  5.6       ,\n",
       "       11.45314286,  7.8       , 10.        ,  9.4       , 10.6       ])"
      ]
     },
     "execution_count": 13,
     "metadata": {},
     "output_type": "execute_result"
    }
   ],
   "source": [
    "pasadena['TMIN']"
   ]
  },
  {
   "cell_type": "code",
   "execution_count": 14,
   "metadata": {},
   "outputs": [
    {
     "data": {
      "text/plain": [
       "array([25.6       , 26.7       , 25.6       , 26.1       , 23.9       ,\n",
       "       23.3       , 23.3       , 19.4       , 17.8       , 14.4       ,\n",
       "       11.1       , 12.2       , 17.2       , 17.2       , 15.        ,\n",
       "       14.4       , 16.1       , 17.2       , 17.2       , 23.3       ,\n",
       "       23.3       , 19.4       , 17.2       , 15.        , 13.9       ,\n",
       "       13.3       , 16.1       , 16.7       , 14.4       , 17.8       ,\n",
       "       18.9       , 21.1       , 23.9       , 28.9       , 32.2       ,\n",
       "       28.9       , 25.6       , 15.        , 15.        , 13.9       ,\n",
       "       14.4       , 15.6       , 10.6       , 10.6       , 14.4       ,\n",
       "       16.7       , 20.        , 20.        , 19.4       , 17.2       ,\n",
       "       17.2       , 20.6       , 18.3       , 14.4       , 12.8       ,\n",
       "       12.2       , 16.7       , 13.3       , 10.6       , 18.9       ,\n",
       "       17.8       , 18.3       , 16.1       , 18.3       , 19.4       ,\n",
       "       20.        , 20.6       , 18.9       , 17.2       , 16.1       ,\n",
       "       22.2       , 23.9       , 21.7       , 21.7       , 20.6       ,\n",
       "       25.6       , 30.6       , 31.7       , 31.1       , 29.4       ,\n",
       "       20.6       , 21.1       , 23.3       , 23.3       , 23.3       ,\n",
       "       26.1       , 23.9       , 23.9       , 29.4       , 25.6       ,\n",
       "       23.9       , 20.        , 18.9       , 14.4       , 18.3       ,\n",
       "       17.8       , 16.1       , 18.3       , 16.7       , 18.9       ,\n",
       "       18.9       , 17.8       , 24.4       , 24.4       , 25.        ,\n",
       "       26.7       , 28.9       , 26.7       , 21.1       , 20.        ,\n",
       "       20.6       , 24.4       , 30.        , 33.9       , 32.2       ,\n",
       "       31.1       , 25.6       , 23.3       , 25.89173789, 27.8       ,\n",
       "       26.1       , 23.9       , 28.3       , 28.3       , 30.6       ,\n",
       "       32.2       , 32.8       , 35.        , 33.9       , 30.6       ,\n",
       "       29.4       , 28.3       , 25.6       , 26.1       , 27.2       ,\n",
       "       26.7       , 28.9       , 25.6       , 25.89173789, 27.8       ,\n",
       "       26.7       , 31.7       , 35.        , 33.9       , 28.9       ,\n",
       "       27.8       , 25.6       , 21.1       , 28.9       , 30.6       ,\n",
       "       32.2       , 27.2       , 28.3       , 25.        , 25.        ,\n",
       "       26.1       , 30.        , 30.6       , 30.6       , 33.3       ,\n",
       "       32.2       , 25.89173789, 32.2       , 25.89173789, 25.89173789,\n",
       "       25.89173789, 36.7       , 35.6       , 33.3       , 34.4       ,\n",
       "       34.4       , 34.4       , 35.        , 25.89173789, 36.7       ,\n",
       "       31.7       , 30.        , 30.6       , 31.7       , 32.2       ,\n",
       "       35.6       , 35.        , 35.6       , 34.4       , 36.7       ,\n",
       "       31.1       , 31.1       , 35.        , 33.9       , 29.4       ,\n",
       "       27.8       , 28.9       , 31.7       , 32.2       , 35.        ,\n",
       "       32.2       , 27.2       , 27.8       , 28.9       , 28.9       ,\n",
       "       28.9       , 32.8       , 33.9       , 29.4       , 28.9       ,\n",
       "       25.89173789, 31.1       , 31.7       , 35.        , 34.4       ,\n",
       "       30.6       , 28.3       , 28.9       , 30.        , 30.        ,\n",
       "       34.4       , 37.8       , 36.1       , 36.1       , 35.6       ,\n",
       "       31.7       , 32.2       , 35.        , 35.6       , 33.3       ,\n",
       "       36.1       , 36.1       , 35.6       , 35.        , 38.3       ,\n",
       "       38.9       , 35.6       , 30.6       , 27.2       , 29.4       ,\n",
       "       31.7       , 32.8       , 30.6       , 33.9       , 31.7       ,\n",
       "       31.1       , 29.4       , 30.        , 35.        , 36.1       ,\n",
       "       30.        , 32.2       , 31.7       , 29.4       , 26.7       ,\n",
       "       28.3       , 29.4       , 27.2       , 27.8       , 28.9       ,\n",
       "       32.2       , 35.        , 36.1       , 33.3       , 30.6       ,\n",
       "       28.3       , 29.4       , 28.3       , 31.7       , 35.        ,\n",
       "       34.4       , 36.7       , 36.7       , 35.6       , 35.        ,\n",
       "       33.9       , 38.9       , 41.1       , 36.1       , 33.3       ,\n",
       "       31.1       , 29.4       , 27.2       , 25.89173789, 25.89173789,\n",
       "       27.2       , 22.2       , 28.9       , 27.8       , 31.1       ,\n",
       "       35.6       , 37.2       , 32.2       , 31.7       , 29.4       ,\n",
       "       28.9       , 28.3       , 27.2       , 28.3       , 23.3       ,\n",
       "       23.3       , 26.7       , 27.8       , 28.9       , 30.6       ,\n",
       "       25.6       , 23.3       , 20.        , 21.1       , 22.8       ,\n",
       "       21.1       , 27.2       , 26.1       , 27.8       , 26.1       ,\n",
       "       23.3       , 30.        , 29.4       , 23.9       , 24.4       ,\n",
       "       25.89173789, 18.9       , 22.8       , 26.1       , 24.4       ,\n",
       "       27.2       , 27.2       , 27.2       , 26.7       , 22.2       ,\n",
       "       20.        , 20.6       , 19.4       , 25.89173789, 20.        ,\n",
       "       16.1       , 15.6       , 15.        , 16.1       , 20.        ,\n",
       "       19.4       , 16.1       , 16.7       , 16.7       , 22.2       ,\n",
       "       25.6       , 27.2       , 23.9       , 15.        , 16.1       ,\n",
       "       16.1       , 16.1       , 15.6       , 17.2       , 18.3       ,\n",
       "       17.8       , 22.2       , 21.1       , 23.9       , 16.1       ,\n",
       "       17.2       , 25.89173789, 18.3       , 20.6       , 23.3       ,\n",
       "       25.89173789, 21.7       , 20.6       , 18.3       , 18.3       ])"
      ]
     },
     "execution_count": 14,
     "metadata": {},
     "output_type": "execute_result"
    }
   ],
   "source": [
    "pasadena['TMAX']"
   ]
  },
  {
   "cell_type": "code",
   "execution_count": 15,
   "metadata": {},
   "outputs": [
    {
     "data": {
      "text/plain": [
       "[<matplotlib.lines.Line2D at 0x1411dfeecc8>]"
      ]
     },
     "execution_count": 15,
     "metadata": {},
     "output_type": "execute_result"
    },
    {
     "data": {
      "image/png": "[encoded data removed]",
      "text/plain": [
       "<Figure size 432x288 with 1 Axes>"
      ]
     },
     "metadata": {
      "needs_background": "light"
     },
     "output_type": "display_data"
    }
   ],
   "source": [
    "pp.plot(pasadena['TMIN'])"
   ]
  },
  {
   "cell_type": "code",
   "execution_count": 17,
   "metadata": {},
   "outputs": [
    {
     "data": {
      "text/plain": [
       "[<matplotlib.lines.Line2D at 0x1411b662d48>]"
      ]
     },
     "execution_count": 17,
     "metadata": {},
     "output_type": "execute_result"
    },
    {
     "data": {
      "image/png": "[encoded data removed]",
      "text/plain": [
       "<Figure size 432x288 with 1 Axes>"
      ]
     },
     "metadata": {
      "needs_background": "light"
     },
     "output_type": "display_data"
    }
   ],
   "source": [
    "pp.plot(pasadena['TMAX'])"
   ]
  },
  {
   "cell_type": "code",
   "execution_count": 18,
   "metadata": {},
   "outputs": [
    {
     "data": {
      "text/plain": [
       "[<matplotlib.lines.Line2D at 0x1411b778908>]"
      ]
     },
     "execution_count": 18,
     "metadata": {},
     "output_type": "execute_result"
    },
    {
     "data": {
      "image/png": "[encoded data removed]",
      "text/plain": [
       "<Figure size 432x288 with 1 Axes>"
      ]
     },
     "metadata": {
      "needs_background": "light"
     },
     "output_type": "display_data"
    }
   ],
   "source": [
    "xdata = np.array([0,1,4,5,7,8],'d')\n",
    "ydata = np.array([10,5,2,7,7.5,10],'d')\n",
    "\n",
    "pp.plot(xdata, ydata, '--o')\n",
    "# drawing plot and have o as point drawing and -- is the connection drawing"
   ]
  },
  {
   "cell_type": "code",
   "execution_count": 20,
   "metadata": {},
   "outputs": [
    {
     "data": {
      "text/plain": [
       "[<matplotlib.lines.Line2D at 0x1411b9791c8>]"
      ]
     },
     "execution_count": 20,
     "metadata": {},
     "output_type": "execute_result"
    },
    {
     "data": {
      "image/png": "[encoded data removed]",
      "text/plain": [
       "<Figure size 432x288 with 1 Axes>"
      ]
     },
     "metadata": {
      "needs_background": "light"
     },
     "output_type": "display_data"
    }
   ],
   "source": [
    "xnew = np.linspace(0, 8, 9)\n",
    "# 9 element total -> 0 to 8\n",
    "ynew = np.interp(xnew, xdata, ydata)\n",
    "\n",
    "pp.plot(xdata, ydata, '--o', ms=10)\n",
    "pp.plot(xnew, ynew, 's')\n",
    "# s is square"
   ]
  },
  {
   "cell_type": "code",
   "execution_count": 21,
   "metadata": {},
   "outputs": [],
   "source": [
    "pasadena = getweather.getyear('PASADENA',['TMIN','TMAX'], 2001)"
   ]
  },
  {
   "cell_type": "code",
   "execution_count": 22,
   "metadata": {},
   "outputs": [
    {
     "data": {
      "text/plain": [
       "array([ 9.4  ,  8.3  ,  8.9  ,  8.3  , 10.   , 10.6  ,  7.2  ,  7.2  ,\n",
       "        7.8  ,  6.1  ,  5.6  ,  6.1  ,  5.   ,  3.9  ,  4.4  ,  2.8  ,\n",
       "        5.   ,  3.9  ,  5.6  ,  7.2  ,  7.2  ,  8.9  ,  5.6  ,  6.7  ,\n",
       "        3.3  ,  5.6  ,  3.3  ,  3.3  ,  3.3  ,  3.9  ,  5.   ,  5.   ,\n",
       "        6.1  ,  6.65 ,  7.2  , 13.9  , 11.1  ,  5.6  ,  2.2  ,  3.9  ,\n",
       "        6.1  ,  3.3  ,  5.6  ,  6.1  ,  2.8  ,  2.8  ,  4.4  ,  7.8  ,\n",
       "       10.   ,  9.4  ,  5.6  ,  5.6  ,  7.8  ,  5.   ,  3.9  ,  6.7  ,\n",
       "        7.2  ,  7.8  ,  6.7  ,  5.   ,  5.6  ,  8.3  ,  9.4  , 10.   ,\n",
       "        9.4  , 10.   ,  8.9  , 10.6  ,  6.1  ,  8.9  ,  8.3  ,  7.2  ,\n",
       "        7.8  , 10.   , 10.   ,  7.8  , 10.6  , 13.3  , 14.4  , 10.6  ,\n",
       "       11.7  , 11.1  ,  9.4  , 10.   , 12.2  , 10.   , 11.1  , 12.8  ,\n",
       "       12.8  , 12.8  , 12.2  , 11.1  , 10.6  ,  8.3  ,  8.3  ,  6.1  ,\n",
       "        7.2  ,  3.3  , 16.1  ,  3.9  ,  8.9  ,  7.8  ,  6.7  ,  7.2  ,\n",
       "        7.2  ,  9.4  ,  9.4  , 12.2  , 11.1  ,  8.9  ,  6.1  ,  7.2  ,\n",
       "       10.   , 10.   , 16.1  , 12.2  , 12.8  , 11.7  , 11.4  , 11.1  ,\n",
       "       11.7  , 12.2  , 11.1  , 10.6  , 11.1  , 12.2  , 13.3  , 15.6  ,\n",
       "       16.1  , 14.4  , 13.3  , 13.9  , 13.3  , 10.6  , 13.3  , 13.9  ,\n",
       "       14.4  , 15.   , 13.05 , 11.1  , 14.4  , 15.   , 15.6  , 15.   ,\n",
       "       15.6  , 16.7  , 14.4  , 14.4  , 12.8  , 13.9  , 15.   , 16.1  ,\n",
       "       15.   , 14.4  , 13.3  , 12.8  , 13.9  , 15.   , 15.6  , 15.6  ,\n",
       "       15.6  , 15.   , 14.4  , 14.125, 13.85 , 13.575, 13.3  , 14.4  ,\n",
       "       16.1  , 16.1  , 16.7  , 17.2  , 18.9  , 16.95 , 15.   , 15.6  ,\n",
       "       15.6  , 15.   , 15.6  , 16.1  , 15.6  , 17.2  , 18.3  , 20.   ,\n",
       "       21.1  , 20.   , 18.9  , 17.8  , 16.7  , 15.   , 13.9  , 12.8  ,\n",
       "       12.2  , 14.4  , 14.4  , 16.1  , 15.6  , 13.3  , 13.3  , 13.9  ,\n",
       "       13.3  , 13.9  , 13.3  , 13.3  , 14.4  , 14.4  , 14.4  , 15.   ,\n",
       "       14.4  , 15.   , 15.6  , 15.6  , 15.   , 15.   , 13.9  , 12.2  ,\n",
       "       14.4  , 17.8  , 19.4  , 17.8  , 15.   , 15.6  , 16.7  , 16.1  ,\n",
       "       16.7  , 18.3  , 17.2  , 17.2  , 17.2  , 18.3  , 18.9  , 16.7  ,\n",
       "       15.6  , 16.1  , 13.9  , 15.6  , 17.8  , 18.3  , 16.7  , 16.1  ,\n",
       "       15.   , 16.7  , 15.   , 15.   , 18.9  , 18.3  , 17.2  , 17.2  ,\n",
       "       17.2  , 16.1  , 15.6  , 15.   , 13.3  , 15.   , 14.4  , 12.8  ,\n",
       "       13.9  , 13.9  , 13.3  , 15.6  , 13.9  , 13.3  , 12.8  , 13.3  ,\n",
       "       15.   , 13.9  , 16.1  , 18.9  , 17.2  , 17.2  , 15.6  , 15.   ,\n",
       "       18.9  , 18.3  , 18.9  , 15.6  , 14.4  , 15.6  , 14.3  , 13.   ,\n",
       "       11.7  , 14.4  , 11.7  , 11.1  , 11.7  , 14.4  , 12.8  , 13.9  ,\n",
       "       15.   , 11.7  , 12.2  , 12.8  , 16.1  , 12.2  , 13.3  , 11.1  ,\n",
       "       11.7  , 11.7  , 13.3  , 12.2  , 13.3  , 12.2  , 12.2  , 11.7  ,\n",
       "       11.1  , 11.1  ,  9.4  , 14.4  , 12.2  , 11.7  , 12.2  , 11.7  ,\n",
       "       12.8  , 13.9  , 13.3  , 10.25 ,  7.2  ,  7.2  , 10.   , 10.   ,\n",
       "       10.   ,  8.9  , 10.   , 10.6  , 11.1  , 11.1  , 10.6  , 10.   ,\n",
       "       10.55 , 11.1  ,  5.6  ,  3.3  ,  7.2  ,  5.6  ,  5.   ,  6.1  ,\n",
       "        8.9  ,  6.1  ,  4.4  ,  6.7  ,  7.2  ,  7.8  ,  5.6  ,  4.4  ,\n",
       "        3.9  ,  5.6  ,  3.9  ,  5.6  ,  6.1  ,  3.9  ,  3.9  ,  3.9  ,\n",
       "        5.6  ,  6.7  ,  6.1  ,  4.4  ,  4.4  ,  4.4  ,  4.4  ,  5.6  ,\n",
       "        6.7  ,  7.8  , 10.   ,  9.4  , 10.6  ])"
      ]
     },
     "execution_count": 22,
     "metadata": {},
     "output_type": "execute_result"
    }
   ],
   "source": [
    "good = ~np.isnan(pasadena['TMIN'])\n",
    "# ~ means not\n",
    "x = np.arange(0, 365)\n",
    "\n",
    "np.interp(x, x[good], pasadena['TMIN'][good])"
   ]
  },
  {
   "cell_type": "code",
   "execution_count": null,
   "metadata": {},
   "outputs": [],
   "source": [
    "def fillnans(array):\n",
    "    good = ~np.isnan(array)\n",
    "    # ~ means not\n",
    "    x = np.arange(len(array))\n",
    "\n",
    "    np.interp(x, x[good], pasadena['TMIN'][good])"
   ]
  }
 ],
 "metadata": {
  "kernelspec": {
   "display_name": "Python 3",
   "language": "python",
   "name": "python3"
  },
  "language_info": {
   "codemirror_mode": {
    "name": "ipython",
    "version": 3
   },
   "file_extension": ".py",
   "mimetype": "text/x-python",
   "name": "python",
   "nbconvert_exporter": "python",
   "pygments_lexer": "ipython3",
   "version": "3.7.6"
  }
 },
 "nbformat": 4,
 "nbformat_minor": 4
}
