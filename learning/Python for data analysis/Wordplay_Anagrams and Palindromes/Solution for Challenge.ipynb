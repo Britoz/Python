{
 "cells": [
  {
   "cell_type": "code",
   "execution_count": 1,
   "metadata": {},
   "outputs": [],
   "source": [
    "import math\n",
    "import collections\n",
    "import itertools\n",
    "import numpy as np\n",
    "import pandas as pd\n",
    "import matplotlib.pyplot as pp\n",
    "\n",
    "%matplotlib inline"
   ]
  },
  {
   "cell_type": "code",
   "execution_count": 2,
   "metadata": {},
   "outputs": [],
   "source": [
    "words = sorted({line.strip().lower() for line in open('english_dictionary.txt', 'r')})"
   ]
  },
  {
   "cell_type": "code",
   "execution_count": 3,
   "metadata": {},
   "outputs": [
    {
     "data": {
      "text/plain": [
       "['cook',\n",
       " 'drawer',\n",
       " 'eat',\n",
       " 'english',\n",
       " 'final',\n",
       " 'finally',\n",
       " 'kooc',\n",
       " 'lane',\n",
       " 'look',\n",
       " 'nun',\n",
       " 'reward',\n",
       " 'shine',\n",
       " 'son',\n",
       " 'sun',\n",
       " 'tea']"
      ]
     },
     "execution_count": 3,
     "metadata": {},
     "output_type": "execute_result"
    }
   ],
   "source": [
    "words"
   ]
  },
  {
   "cell_type": "code",
   "execution_count": 4,
   "metadata": {},
   "outputs": [],
   "source": [
    "def signature(word):\n",
    "    return ''.join(sorted(word))\n",
    "# this function will join space in each word\n",
    "\n",
    "words_by_sig = collections.defaultdict(set)\n",
    "# create default dictionary as set\n",
    "\n",
    "for word in words:\n",
    "    words_by_sig[signature(word)].add(word)\n",
    "# add to words_by_sig dictionary by it key and value\n",
    "    \n",
    "anagrams_by_sig = {sig: wordset for sig, wordset in words_by_sig.items() if len(wordset) > 1}\n",
    "# create new set() which has start by sig: and wordset which is the value of words_by_sig items which is not empty"
   ]
  },
  {
   "cell_type": "code",
   "execution_count": 5,
   "metadata": {},
   "outputs": [
    {
     "data": {
      "text/plain": [
       "{'ckoo': {'cook', 'kooc'},\n",
       " 'aderrw': {'drawer', 'reward'},\n",
       " 'aet': {'eat', 'tea'}}"
      ]
     },
     "execution_count": 5,
     "metadata": {},
     "output_type": "execute_result"
    }
   ],
   "source": [
    "anagrams_by_sig\n",
    "# 'ckoo' is the sig\n",
    "# {'cook', 'kooc'} is the wordset"
   ]
  },
  {
   "cell_type": "code",
   "execution_count": 6,
   "metadata": {},
   "outputs": [
    {
     "data": {
      "text/plain": [
       "'elehcim'"
      ]
     },
     "execution_count": 6,
     "metadata": {},
     "output_type": "execute_result"
    }
   ],
   "source": [
    "'michele'[::-1]\n",
    "# one way to reverse string"
   ]
  },
  {
   "cell_type": "code",
   "execution_count": 7,
   "metadata": {},
   "outputs": [],
   "source": [
    "pairs = []\n",
    "\n",
    "for wordset in anagrams_by_sig.values():\n",
    "    for word1 in wordset:\n",
    "        for word2 in wordset:\n",
    "            # one way is to check pairs only if they are sorted\n",
    "            if word1 >= word2 and word1[::-1] == word2:\n",
    "                pairs.append((word1, word2))"
   ]
  },
  {
   "cell_type": "code",
   "execution_count": 8,
   "metadata": {},
   "outputs": [
    {
     "data": {
      "text/plain": [
       "[('kooc', 'cook'), ('reward', 'drawer')]"
      ]
     },
     "execution_count": 8,
     "metadata": {},
     "output_type": "execute_result"
    }
   ],
   "source": [
    "pairs"
   ]
  },
  {
   "cell_type": "code",
   "execution_count": 9,
   "metadata": {},
   "outputs": [],
   "source": [
    "import itertools"
   ]
  },
  {
   "cell_type": "code",
   "execution_count": 10,
   "metadata": {},
   "outputs": [
    {
     "data": {
      "text/plain": [
       "[(1, 2), (1, 3), (2, 3)]"
      ]
     },
     "execution_count": 10,
     "metadata": {},
     "output_type": "execute_result"
    }
   ],
   "source": [
    "list(itertools.combinations({1,2,3}, 2))"
   ]
  },
  {
   "cell_type": "code",
   "execution_count": 11,
   "metadata": {},
   "outputs": [],
   "source": [
    "pairs = []\n",
    "\n",
    "for wordset in anagrams_by_sig.values():\n",
    "    for word1, word2 in itertools.combinations(wordset, 2):\n",
    "        if word1[::-1] == word2:\n",
    "            pairs.append((word1, word2))"
   ]
  },
  {
   "cell_type": "code",
   "execution_count": 12,
   "metadata": {},
   "outputs": [
    {
     "data": {
      "text/plain": [
       "[('cook', 'kooc'), ('reward', 'drawer')]"
      ]
     },
     "execution_count": 12,
     "metadata": {},
     "output_type": "execute_result"
    }
   ],
   "source": [
    "pairs"
   ]
  },
  {
   "cell_type": "code",
   "execution_count": null,
   "metadata": {},
   "outputs": [],
   "source": []
  }
 ],
 "metadata": {
  "kernelspec": {
   "display_name": "Python 3",
   "language": "python",
   "name": "python3"
  },
  "language_info": {
   "codemirror_mode": {
    "name": "ipython",
    "version": 3
   },
   "file_extension": ".py",
   "mimetype": "text/x-python",
   "name": "python",
   "nbconvert_exporter": "python",
   "pygments_lexer": "ipython3",
   "version": "3.7.6"
  }
 },
 "nbformat": 4,
 "nbformat_minor": 4
}
